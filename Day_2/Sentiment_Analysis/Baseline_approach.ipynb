{
 "cells": [
  {
   "cell_type": "code",
   "execution_count": 1,
   "metadata": {},
   "outputs": [
    {
     "data": {
      "text/html": [
       "\n",
       "<style>\n",
       "\n",
       "div.cell { /* Tunes the space between cells */\n",
       "margin-top:1em;\n",
       "margin-bottom:1em;\n",
       "}\n",
       "\n",
       "div.text_cell_render h1 { /* Main titles bigger, centered */\n",
       "font-size: 2.0em;\n",
       "line-height:1.6em;\n",
       "text-align:center;\n",
       "}\n",
       "\n",
       "div.text_cell_render h2 { /*  Parts names nearer from text */\n",
       "margin-bottom: 1em;\n",
       "text-align:center;\n",
       "}\n",
       "\n",
       "div.text_cell_render h3 { /*  Parts names nearer from text */\n",
       "margin-bottom: 0.8em;\n",
       "text-align:center;\n",
       "}\n",
       "\n",
       "div.text_cell_render { /* Customize text cells */\n",
       "font-family: 'Times New Roman';\n",
       "font-size:1.2em;\n",
       "line-height:1.2em;\n",
       "padding-left:1em;\n",
       "padding-right:3em;\n",
       "}\n",
       "</style>\n"
      ],
      "text/plain": [
       "<IPython.core.display.HTML object>"
      ]
     },
     "execution_count": 1,
     "metadata": {},
     "output_type": "execute_result"
    }
   ],
   "source": [
    "\n",
    "from IPython.core.display import HTML\n",
    "HTML(\"\"\"\n",
    "<style>\n",
    "\n",
    "div.cell { /* Tunes the space between cells */\n",
    "margin-top:1em;\n",
    "margin-bottom:1em;\n",
    "}\n",
    "\n",
    "div.text_cell_render h1 { /* Main titles bigger, centered */\n",
    "font-size: 2.0em;\n",
    "line-height:1.6em;\n",
    "text-align:center;\n",
    "}\n",
    "\n",
    "div.text_cell_render h2 { /*  Parts names nearer from text */\n",
    "margin-bottom: 1em;\n",
    "text-align:center;\n",
    "}\n",
    "\n",
    "div.text_cell_render h3 { /*  Parts names nearer from text */\n",
    "margin-bottom: 0.8em;\n",
    "text-align:center;\n",
    "}\n",
    "\n",
    "div.text_cell_render { /* Customize text cells */\n",
    "font-family: 'Times New Roman';\n",
    "font-size:1.2em;\n",
    "line-height:1.2em;\n",
    "padding-left:1em;\n",
    "padding-right:3em;\n",
    "}\n",
    "</style>\n",
    "\"\"\")"
   ]
  },
  {
   "cell_type": "markdown",
   "metadata": {},
   "source": [
    "# Sentiment Analysis ML approach"
   ]
  },
  {
   "cell_type": "markdown",
   "metadata": {},
   "source": [
    "```\n",
    "\n",
    "Step 1: Import dependencies\n",
    "\n",
    "Step 2: Build training dataset and testing dataset\n",
    "\n",
    "Step 3: Generate feature vector by using TfidfVectorizer\n",
    "\n",
    "Step 4: Perform training using different ML algos\n",
    "\n",
    "Step 5: Refresh testing matrices\n",
    "\n",
    "Step 6: Test the results\n",
    "\n",
    "\n",
    "```"
   ]
  },
  {
   "cell_type": "markdown",
   "metadata": {},
   "source": [
    "### Import dependancies"
   ]
  },
  {
   "cell_type": "code",
   "execution_count": 2,
   "metadata": {},
   "outputs": [],
   "source": [
    "import os\n",
    "import time\n",
    "from __future__ import print_function\n",
    "from sklearn.feature_extraction.text import TfidfVectorizer\n",
    "from sklearn.naive_bayes import MultinomialNB\n",
    "from sklearn import svm\n",
    "from sklearn.metrics import classification_report\n",
    "from sklearn.metrics import accuracy_score\n",
    "\n",
    "#%config IPCompleter.greedy=True\n",
    "\n",
    "# Visualization\n",
    "import seaborn as sns\n",
    "import matplotlib.pyplot as plt\n",
    "%matplotlib inline"
   ]
  },
  {
   "cell_type": "markdown",
   "metadata": {},
   "source": [
    "### Build training dataset and testing dataset"
   ]
  },
  {
   "cell_type": "code",
   "execution_count": 8,
   "metadata": {},
   "outputs": [],
   "source": [
    "data_dir = \"./data\"\n",
    "classes = ['positiveReviews', 'negativeReviews']\n",
    "\n",
    "# Read the data\n",
    "train_data = []\n",
    "train_labels = []\n",
    "test_data = []\n",
    "test_labels = []\n",
    "for curr_class in classes:\n",
    "    dirname = os.path.join(data_dir, curr_class)\n",
    "    for fname in os.listdir(dirname):\n",
    "        with open(os.path.join(dirname, fname), 'r', encoding=\"ISO-8859-1\") as f:\n",
    "            content = f.read()\n",
    "            if fname.startswith('12'):\n",
    "                test_data.append(content)\n",
    "                test_labels.append(curr_class)\n",
    "            else:\n",
    "                train_data.append(content)\n",
    "                train_labels.append(curr_class)\n",
    "                \n"
   ]
  },
  {
   "cell_type": "markdown",
   "metadata": {},
   "source": [
    "### Generate feature vector by using TfidfVectorizer"
   ]
  },
  {
   "cell_type": "code",
   "execution_count": 9,
   "metadata": {},
   "outputs": [],
   "source": [
    "# Create feature vectors\n",
    "vectorizer = TfidfVectorizer(min_df=5,\n",
    "                                 max_df = 0.8,\n",
    "                                 sublinear_tf=True,\n",
    "                                 use_idf=True)\n",
    "train_vectors = vectorizer.fit_transform(train_data)\n",
    "test_vectors = vectorizer.transform(test_data)\n"
   ]
  },
  {
   "cell_type": "markdown",
   "metadata": {},
   "source": [
    "### Perform training using different ML algos"
   ]
  },
  {
   "cell_type": "code",
   "execution_count": 10,
   "metadata": {},
   "outputs": [],
   "source": [
    "# Perform classification with MultinomialNB\n",
    "clf = MultinomialNB()\n",
    "clf.fit(train_vectors, train_labels)\n",
    "prediction = clf.predict(test_vectors)\n",
    "\n",
    "# Perform classification with SVM, kernel=rbf\n",
    "classifier_rbf = svm.SVC()\n",
    "classifier_rbf.fit(train_vectors, train_labels)\n",
    "prediction_rbf = classifier_rbf.predict(test_vectors)\n",
    "    \n",
    "# Perform classification with SVM, kernel=linear\n",
    "classifier_linear = svm.SVC(kernel='linear')\n",
    "classifier_linear.fit(train_vectors, train_labels)\n",
    "prediction_linear = classifier_linear.predict(test_vectors)\n",
    "  \n",
    "# Perform classification with SVM, kernel=linear\n",
    "classifier_liblinear = svm.LinearSVC()\n",
    "classifier_liblinear.fit(train_vectors, train_labels)\n",
    "prediction_liblinear = classifier_liblinear.predict(test_vectors)"
   ]
  },
  {
   "cell_type": "markdown",
   "metadata": {},
   "source": [
    "### Refresh testing matrices"
   ]
  },
  {
   "cell_type": "markdown",
   "metadata": {},
   "source": [
    "#### Confusion Matrix"
   ]
  },
  {
   "cell_type": "markdown",
   "metadata": {},
   "source": [
    "|| Predicted (Class Ham)| Predicted (Class Spam)|\n",
    "|:---:|:---: |:---:|\n",
    "|  Actual (Class Ham) |True Positive (TP) | False Negative (FN)|\n",
    "|  Actual (Class Spam)|False Positive(FP) | True Negative (TN) |"
   ]
  },
  {
   "cell_type": "markdown",
   "metadata": {},
   "source": [
    "```\n",
    "    Patient: positive for disease\n",
    "\n",
    "    Healthy: negative for disease\n",
    "\n",
    "    True positive (TP) = the number of cases correctly identified as patient\n",
    "\n",
    "    False positive (FP) = the number of cases incorrectly identified as patient\n",
    "\n",
    "    True negative (TN) = the number of cases correctly identified as healthy\n",
    "\n",
    "    False negative (FN) = the number of cases incorrectly identified as healthy\n",
    "\n",
    "```\n",
    "\n",
    "\n",
    "```\n",
    "    TP = Correct hit\n",
    "\n",
    "    TN = Correct rejection\n",
    "    \n",
    "    FP = False alarm \n",
    "    \n",
    "    FN = Miss the situation\n",
    "```"
   ]
  },
  {
   "cell_type": "markdown",
   "metadata": {},
   "source": [
    "#### Precision, Recall, TPR, FPR F1-Score and Accuracy"
   ]
  },
  {
   "cell_type": "markdown",
   "metadata": {},
   "source": [
    "\\begin{equation}\\Large\n",
    "   Precision \\;||\\; Positive \\; Pridicted \\; Value \\;(PPV) =  \\frac{TP}{ TP + FP}\n",
    "\\end{equation} \n",
    "\n",
    "\n",
    "```\n",
    "\n",
    "\n",
    "```\n",
    "\n",
    "\\begin{equation}\\Large\n",
    "   Recall \\;||\\; Hit-rate \\;||\\; Sensitivity \\;||\\; True\\; Positive\\; Rate \\;(TPR) =  \\frac{TP}{ TP + FN}\n",
    "\\end{equation} \n",
    "\n",
    "\n",
    "\n",
    "```\n",
    "\n",
    "\n",
    "```\n",
    "\n",
    "\\begin{equation}\\Large\n",
    "    Fall-out \\;||\\; Specificity \\;||\\; False\\; Positive\\; Rate \\;(FPR) =  \\frac{TN}{ TN + FP}\n",
    "\\end{equation} \n",
    "\n",
    "\n",
    "```\n",
    "\n",
    "\n",
    "```\n",
    "\n",
    "\\begin{equation}\\Large\n",
    "   F1-Score = 2* \\frac{\\text precision * recall}{\\text precision + recall}\n",
    "\\end{equation} \n",
    "\n",
    "\n",
    "```\n",
    "\n",
    "\n",
    "\n",
    "```\n",
    "\n",
    "\\begin{equation}\\Large\n",
    "   Accuracy =  \\frac{TP + TN}{ TP+TN+FP+FN}\n",
    "\\end{equation} \n",
    "\n",
    "\n",
    "```\n",
    "\n",
    "\n",
    "\n",
    "```\n"
   ]
  },
  {
   "cell_type": "markdown",
   "metadata": {},
   "source": [
    "#### ROC-AUC cure"
   ]
  },
  {
   "cell_type": "markdown",
   "metadata": {},
   "source": [
    "__TPR__: This is our __Y-axis__\n",
    "\n",
    "* This metric corresponds to the proportion of positive data points that are correctly considered as positive, with \n",
    "  respect to all positive data points.\n",
    "  \n",
    "* In other words, higher TPR, the fewer positive data points we will miss.\n",
    "\n",
    "__FPR__: This is our __X-axis__\n",
    "\n",
    "* This metric corresponds to the proportion of negative data points that are mistakenly considered as positive, \n",
    "  with respect to all negative data points. \n",
    "\n",
    "* In other words, the higher FPR, the more negative data points will be missclassified"
   ]
  },
  {
   "cell_type": "code",
   "execution_count": 11,
   "metadata": {},
   "outputs": [
    {
     "data": {
      "image/png": "[encoded data removed]",
      "text/plain": [
       "<matplotlib.figure.Figure at 0x7fbf4dc40208>"
      ]
     },
     "metadata": {},
     "output_type": "display_data"
    }
   ],
   "source": [
    "import matplotlib.pyplot as plt\n",
    "import numpy as np\n",
    "\n",
    "score = np.array([0.9, 0.8, 0.7, 0.6, 0.55, 0.54, 0.53, 0.52, 0.51, 0.505, 0.4, 0.39, 0.38, 0.37, 0.36, 0.35, 0.34, 0.33, 0.30, 0.1])\n",
    "y = np.array([1,1,0, 1, 1, 1, 0, 0, 1, 0, 1,0, 1, 0, 0, 0, 1 , 0, 1, 0])\n",
    "\n",
    "roc_x = []\n",
    "roc_y = []\n",
    "min_score = min(score)\n",
    "max_score = max(score)\n",
    "thr = np.linspace(min_score, max_score, 30)\n",
    "#print (thr)\n",
    "FP=0\n",
    "TP=0\n",
    "N = sum(y)\n",
    "#print (N)\n",
    "\n",
    "P = len(y) - N\n",
    "#print (len(y))\n",
    "#print (P)\n",
    "\n",
    "for (i, T) in enumerate(thr):\n",
    "    #print(T)\n",
    "    #print(thr)\n",
    "    for i in range(0, len(score)):\n",
    "        if (score[i] > T):\n",
    "            if (y[i]==1):\n",
    "                TP = TP + 1\n",
    "            if (y[i]==0):\n",
    "                FP = FP + 1\n",
    "    roc_x.append(FP/float(N))\n",
    "    roc_y.append(TP/float(P))\n",
    "    FP=0\n",
    "    TP=0\n",
    "\n",
    "plt.scatter(roc_x, roc_y)\n",
    "plt.ylabel('True Positive Rate')\n",
    "plt.xlabel('False Positive Rate')\n",
    "plt.show()"
   ]
  },
  {
   "cell_type": "markdown",
   "metadata": {},
   "source": [
    "### Test the result of MultinomialNB"
   ]
  },
  {
   "cell_type": "code",
   "execution_count": 12,
   "metadata": {},
   "outputs": [
    {
     "name": "stdout",
     "output_type": "stream",
     "text": [
      "\n",
      "Results for NaiveBayes (MultinomialNB) \n",
      "                 precision    recall  f1-score   support\n",
      "\n",
      "negativeReviews       0.81      0.85      0.83       611\n",
      "positiveReviews       0.84      0.80      0.82       611\n",
      "\n",
      "    avg / total       0.83      0.83      0.83      1222\n",
      "\n",
      "Accuracy of Naive Bayes Algorithm:0.82569558101473\n",
      "\n",
      "\n",
      "\n",
      "\n",
      "Reviews Prediction\n",
      "\n",
      "Predicted label is------> positiveReviews\n",
      "\n",
      "Movie Review is ------> \n",
      "The premise may seem goofy, but since Murphy's character doesn't take it seriously, it helps ease the audience into this mix of mysticism and modern-day hard-boiled child abduction. Excellent cast, particularly Charles Dance and Charlotte Lewis, and Murphy is at the height of his 80's peak in comedy/action. There's also some great F/X, a very surreal dream sequence, and a fairly original plot. Often overlooked in the pantheon of Murphy flicks, but this one is worth a look.\n"
     ]
    }
   ],
   "source": [
    "# Print results in a nice table for MultinomialNB\n",
    "print(\"\\nResults for NaiveBayes (MultinomialNB) \")\n",
    "print(classification_report(test_labels, prediction))\n",
    "print (\"Accuracy of Naive Bayes Algorithm:\" + str(accuracy_score(test_labels, prediction)))\n",
    "\n",
    "print(\"\\n\\n\\n\")\n",
    "print (\"Reviews Prediction\")\n",
    "print (\"\\nPredicted label is------> \"+prediction[10] )\n",
    "print (\"\\nMovie Review is ------> \\n\"+test_data[10])"
   ]
  },
  {
   "cell_type": "markdown",
   "metadata": {},
   "source": [
    "### Test the result of SVM with rbf kernal"
   ]
  },
  {
   "cell_type": "code",
   "execution_count": 13,
   "metadata": {},
   "outputs": [
    {
     "name": "stdout",
     "output_type": "stream",
     "text": [
      "\n",
      "Results for SVM algorithm with rbf kernel\n",
      "                 precision    recall  f1-score   support\n",
      "\n",
      "negativeReviews       1.00      0.13      0.24       611\n",
      "positiveReviews       0.54      1.00      0.70       611\n",
      "\n",
      "    avg / total       0.77      0.57      0.47      1222\n",
      "\n",
      "Accuracy of SVM algorithm with rbf kernel:0.5671031096563012\n",
      "\n",
      "\n",
      "\n",
      "\n",
      "Reviews Prediction\n",
      "\n",
      "Predicted label is------> positiveReviews\n",
      "\n",
      "Movie Review is ------> \n",
      "The premise may seem goofy, but since Murphy's character doesn't take it seriously, it helps ease the audience into this mix of mysticism and modern-day hard-boiled child abduction. Excellent cast, particularly Charles Dance and Charlotte Lewis, and Murphy is at the height of his 80's peak in comedy/action. There's also some great F/X, a very surreal dream sequence, and a fairly original plot. Often overlooked in the pantheon of Murphy flicks, but this one is worth a look.\n"
     ]
    }
   ],
   "source": [
    "# Print results in a nice table for SVM algorithm with rbf kernal\n",
    "print(\"\\nResults for SVM algorithm with rbf kernel\")\n",
    "print(classification_report(test_labels, prediction_rbf))\n",
    "print (\"Accuracy of SVM algorithm with rbf kernel:\" + str(accuracy_score(test_labels, prediction_rbf)))\n",
    "\n",
    "print(\"\\n\\n\\n\")\n",
    "print (\"Reviews Prediction\")\n",
    "print (\"\\nPredicted label is------> \"+prediction[10] )\n",
    "print (\"\\nMovie Review is ------> \\n\"+test_data[10])"
   ]
  },
  {
   "cell_type": "markdown",
   "metadata": {},
   "source": [
    "### Test the result of SVM with linear kernal"
   ]
  },
  {
   "cell_type": "code",
   "execution_count": 14,
   "metadata": {},
   "outputs": [
    {
     "name": "stdout",
     "output_type": "stream",
     "text": [
      "\n",
      "Results for SVM algorithm with linear kernel\n",
      "                 precision    recall  f1-score   support\n",
      "\n",
      "negativeReviews       0.83      0.86      0.85       611\n",
      "positiveReviews       0.86      0.82      0.84       611\n",
      "\n",
      "    avg / total       0.84      0.84      0.84      1222\n",
      "\n",
      "Accuracy of SVM algorithm with rbf kernel:0.8428805237315876\n",
      "\n",
      "\n",
      "\n",
      "\n",
      "Reviews Prediction\n",
      "\n",
      "Predicted label is------> positiveReviews\n",
      "\n",
      "Movie Review is ------> \n",
      "The premise may seem goofy, but since Murphy's character doesn't take it seriously, it helps ease the audience into this mix of mysticism and modern-day hard-boiled child abduction. Excellent cast, particularly Charles Dance and Charlotte Lewis, and Murphy is at the height of his 80's peak in comedy/action. There's also some great F/X, a very surreal dream sequence, and a fairly original plot. Often overlooked in the pantheon of Murphy flicks, but this one is worth a look.\n"
     ]
    }
   ],
   "source": [
    "# Print results in a nice table for SVM algorithm with linear kernal\n",
    "print(\"\\nResults for SVM algorithm with linear kernel\")\n",
    "print(classification_report(test_labels, prediction_linear))\n",
    "print (\"Accuracy of SVM algorithm with rbf kernel:\" + str(accuracy_score(test_labels, prediction_linear)))\n",
    "\n",
    "print(\"\\n\\n\\n\")\n",
    "print (\"Reviews Prediction\")\n",
    "print (\"\\nPredicted label is------> \"+prediction[10] )\n",
    "print (\"\\nMovie Review is ------> \\n\"+test_data[10])"
   ]
  },
  {
   "cell_type": "markdown",
   "metadata": {},
   "source": [
    "### Test the result of SVM with linearSVC"
   ]
  },
  {
   "cell_type": "code",
   "execution_count": 15,
   "metadata": {},
   "outputs": [
    {
     "name": "stdout",
     "output_type": "stream",
     "text": [
      "\n",
      "Results for SVM algorithm with liblinear kernel\n",
      "                 precision    recall  f1-score   support\n",
      "\n",
      "negativeReviews       0.82      0.86      0.84       611\n",
      "positiveReviews       0.86      0.82      0.84       611\n",
      "\n",
      "    avg / total       0.84      0.84      0.84      1222\n",
      "\n",
      "Accuracy of SVM algorithm with rbf kernel:0.839607201309329\n",
      "\n",
      "\n",
      "\n",
      "\n",
      "Reviews Prediction\n",
      "\n",
      "Predicted label is------> positiveReviews\n",
      "\n",
      "Movie Review is ------> \n",
      "The premise may seem goofy, but since Murphy's character doesn't take it seriously, it helps ease the audience into this mix of mysticism and modern-day hard-boiled child abduction. Excellent cast, particularly Charles Dance and Charlotte Lewis, and Murphy is at the height of his 80's peak in comedy/action. There's also some great F/X, a very surreal dream sequence, and a fairly original plot. Often overlooked in the pantheon of Murphy flicks, but this one is worth a look.\n"
     ]
    }
   ],
   "source": [
    "# Print results in a nice table for SVM algorithm with liblinear kernal\n",
    "print(\"\\nResults for SVM algorithm with liblinear kernel\")\n",
    "print(classification_report(test_labels, prediction_liblinear))\n",
    "print (\"Accuracy of SVM algorithm with rbf kernel:\" + str(accuracy_score(test_labels, prediction_liblinear)))\n",
    "\n",
    "print(\"\\n\\n\\n\")\n",
    "print (\"Reviews Prediction\")\n",
    "print (\"\\nPredicted label is------> \"+prediction[10] )\n",
    "print (\"\\nMovie Review is ------> \\n\"+test_data[10])"
   ]
  }
 ],
 "metadata": {
  "kernelspec": {
   "display_name": "Python 3",
   "language": "python",
   "name": "python3"
  },
  "language_info": {
   "codemirror_mode": {
    "name": "ipython",
    "version": 3
   },
   "file_extension": ".py",
   "mimetype": "text/x-python",
   "name": "python",
   "nbconvert_exporter": "python",
   "pygments_lexer": "ipython3",
   "version": "3.5.2"
  }
 },
 "nbformat": 4,
 "nbformat_minor": 2
}
