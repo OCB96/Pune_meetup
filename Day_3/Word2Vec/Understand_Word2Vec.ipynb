{
 "cells": [
  {
   "cell_type": "code",
   "execution_count": 1,
   "metadata": {},
   "outputs": [
    {
     "data": {
      "text/html": [
       "\n",
       "<style>\n",
       "\n",
       "div.cell { /* Tunes the space between cells */\n",
       "margin-top:1em;\n",
       "margin-bottom:1em;\n",
       "}\n",
       "\n",
       "div.text_cell_render h1 { /* Main titles bigger, centered */\n",
       "font-size: 2.0em;\n",
       "line-height:1.6em;\n",
       "text-align:center;\n",
       "}\n",
       "\n",
       "div.text_cell_render h2 { /*  Parts names nearer from text */\n",
       "margin-bottom: 1em;\n",
       "text-align:center;\n",
       "}\n",
       "\n",
       "\n",
       "div.text_cell_render { /* Customize text cells */\n",
       "font-family: 'Times New Roman';\n",
       "font-size:1.2em;\n",
       "line-height:1.2em;\n",
       "padding-left:1em;\n",
       "padding-right:3em;\n",
       "}\n",
       "</style>\n"
      ],
      "text/plain": [
       "<IPython.core.display.HTML object>"
      ]
     },
     "execution_count": 1,
     "metadata": {},
     "output_type": "execute_result"
    }
   ],
   "source": [
    "from IPython.core.display import HTML\n",
    "HTML(\"\"\"\n",
    "<style>\n",
    "\n",
    "div.cell { /* Tunes the space between cells */\n",
    "margin-top:1em;\n",
    "margin-bottom:1em;\n",
    "}\n",
    "\n",
    "div.text_cell_render h1 { /* Main titles bigger, centered */\n",
    "font-size: 2.0em;\n",
    "line-height:1.6em;\n",
    "text-align:center;\n",
    "}\n",
    "\n",
    "div.text_cell_render h2 { /*  Parts names nearer from text */\n",
    "margin-bottom: 1em;\n",
    "text-align:center;\n",
    "}\n",
    "\n",
    "\n",
    "div.text_cell_render { /* Customize text cells */\n",
    "font-family: 'Times New Roman';\n",
    "font-size:1.2em;\n",
    "line-height:1.2em;\n",
    "padding-left:1em;\n",
    "padding-right:3em;\n",
    "}\n",
    "</style>\n",
    "\"\"\")"
   ]
  },
  {
   "cell_type": "markdown",
   "metadata": {},
   "source": [
    "# It's all about Word2Vec"
   ]
  },
  {
   "cell_type": "markdown",
   "metadata": {},
   "source": [
    "<img src=\"https://raw.githubusercontent.com/jalajthanaki/Pune_meetup/master/Day_3/Word2Vec/images/Image_1_1.gif\" \n",
    "align=\"middle\" alt=\"Image_1_1\" data-canonical-src=\"\" style=\"width:90%;height:90%\">"
   ]
  },
  {
   "cell_type": "markdown",
   "metadata": {},
   "source": [
    "```\n",
    "1. Why do we need Word2Vec?\n",
    "\n",
    "2. What is Word2Vec?\n",
    "\n",
    "3. Architecture of Word2Vec\n",
    "\n",
    "4. Components of Word2Vec\n",
    "    \n",
    "    4.1 Vocabulary Builder\n",
    "    \n",
    "    4.2 Context Builder\n",
    "    \n",
    "    4.3 One-hot encoding\n",
    "    \n",
    "    4.4 Skip-Gram\n",
    "    \n",
    "    4.5 Continuous Bag of Words\n",
    "\n",
    "5. Math behind Word2Vec\n",
    "\n",
    "    5.1 Structure Highlights\n",
    "    \n",
    "    5.2 Small math example\n",
    "    \n",
    "    5.3 Softmax function\n",
    "\n",
    "    5.4 Error Function\n",
    "\n",
    "6. Understanding of T-SNE \n",
    "    \n",
    "7. Let's start hands on session\n",
    "\n",
    "\n",
    "```"
   ]
  },
  {
   "cell_type": "markdown",
   "metadata": {},
   "source": [
    "## Why do we need Word2Vec?"
   ]
  },
  {
   "cell_type": "markdown",
   "metadata": {},
   "source": [
    "* Semantics is important...!\n",
    "\n",
    "\n",
    "* Lexical Semantics and Distributional Semantics\n",
    "\n",
    "\n",
    "* We are focusing of Distributional Semantics\n",
    "\n",
    "\n",
    "* Computer cannot do computations on strings\n",
    "\n",
    "\n",
    "* Strings don’t hold much explicit information themselves.\n",
    "\n"
   ]
  },
  {
   "cell_type": "markdown",
   "metadata": {},
   "source": [
    "__Facts:__\n",
    "\n",
    "\n",
    "* Is Word2Vec having Deep Neural Networks? The answer is: __NO__ \n",
    "\n",
    "\n",
    "* It's has only 3 layers...!"
   ]
  },
  {
   "cell_type": "markdown",
   "metadata": {},
   "source": [
    "## What is Word2Vec?"
   ]
  },
  {
   "cell_type": "markdown",
   "metadata": {},
   "source": [
    "* Word2Vec is the representation of words in numerical format. \n",
    "\n",
    "\n",
    "* Words Vectors are usually dense vector representations\n",
    "\n",
    "\n",
    "* It generates high-dimensional vector space for words. \n",
    "\n"
   ]
  },
  {
   "cell_type": "markdown",
   "metadata": {},
   "source": [
    "## Architecture of Word2Vec\n",
    "\n"
   ]
  },
  {
   "cell_type": "markdown",
   "metadata": {},
   "source": [
    "<img src=\"https://raw.githubusercontent.com/jalajthanaki/Pune_meetup/master/Day_3/Word2Vec/images/Image_1_2.png\" \n",
    "align=\"middle\" alt=\"Image_1_2\" data-canonical-src=\"\" style=\"width:80%;height:80%\">"
   ]
  },
  {
   "cell_type": "markdown",
   "metadata": {},
   "source": [
    "<p style=\"text-align:center;\">Image credit goes to [Xin Rong](https://docs.google.com/presentation/d/1yQWN1CDWLzxGeIAvnGgDsIJr5xmy4dB0VmHFKkLiibo/pub?start=false&loop=false&delayms=3000&slide=id.p)</p>"
   ]
  },
  {
   "cell_type": "markdown",
   "metadata": {},
   "source": [
    "<img src=\"https://raw.githubusercontent.com/jalajthanaki/Pune_meetup/master/Day_3/Word2Vec/images/Image_1_3.png\" \n",
    "align=\"middle\" alt=\"Image_1_3\" data-canonical-src=\"\" style=\"width:100%;height:100%\">"
   ]
  },
  {
   "cell_type": "markdown",
   "metadata": {},
   "source": [
    "<p style=\"text-align:center;\">Image credit goes to [Xin Rong](https://docs.google.com/presentation/d/1yQWN1CDWLzxGeIAvnGgDsIJr5xmy4dB0VmHFKkLiibo/pub?start=false&loop=false&delayms=3000&slide=id.p)</p>"
   ]
  },
  {
   "cell_type": "markdown",
   "metadata": {},
   "source": [
    "## Main Logic behind Word2Vec\n",
    "\n",
    "    "
   ]
  },
  {
   "cell_type": "markdown",
   "metadata": {},
   "source": [
    "<img src=\"https://raw.githubusercontent.com/jalajthanaki/Pune_meetup/master/Day_3/Word2Vec/images/Image_1_4.png\" \n",
    "align=\"middle\" alt=\"Image_1_4\" data-canonical-src=\"\" style=\"width:100%;height:100%\">"
   ]
  },
  {
   "cell_type": "markdown",
   "metadata": {},
   "source": [
    "<p style=\"text-align:center;\">Image credit goes to [Xin Rong](https://docs.google.com/presentation/d/1yQWN1CDWLzxGeIAvnGgDsIJr5xmy4dB0VmHFKkLiibo/pub?start=false&loop=false&delayms=3000&slide=id.p)</p>\n"
   ]
  },
  {
   "cell_type": "markdown",
   "metadata": {},
   "source": [
    "## Components of Word2Vec"
   ]
  },
  {
   "cell_type": "markdown",
   "metadata": {},
   "source": [
    "### Vocabulary Builder"
   ]
  },
  {
   "cell_type": "markdown",
   "metadata": {},
   "source": [
    "* It takes input in form of raw sentences and generate vocabulary in form of unique words from sentence.\n",
    "\n",
    "```\n",
    "Example: he is a boy\n",
    "\n",
    "```\n",
    "* Then Vocabulary Builder builds the vocabulary of four words\n",
    "\n",
    "* In gensim, Vocabulary builder object has word index and its count."
   ]
  },
  {
   "cell_type": "code",
   "execution_count": 37,
   "metadata": {},
   "outputs": [
    {
     "name": "stdout",
     "output_type": "stream",
     "text": [
      "Populating the interactive namespace from numpy and matplotlib\n",
      "Word2Vec(vocab=14, size=100, alpha=0.025)\n",
      "['is', 'sentence', 'for', 'the', 'yet', 'final', 'another', 'and', 'one', 'second', 'this', 'word2vec', 'more', 'first']\n",
      "[ 9.6209993e-04  1.1460621e-04 -1.7711769e-03  3.3680422e-03\n",
      "  4.8903595e-03  4.6888622e-03  3.3843378e-03  3.4872207e-03\n",
      " -4.7312952e-03  1.8418371e-03  3.5851102e-03  1.2439444e-05\n",
      "  2.3683887e-03  3.5339796e-03  2.8494007e-03 -4.9129911e-03\n",
      "  3.4092639e-03  1.2433403e-03 -1.1899451e-03 -4.2076892e-04\n",
      "  4.0362068e-04 -9.1121887e-04 -3.1746463e-03 -6.7561254e-04\n",
      " -3.1773427e-03 -2.8699592e-03  1.1373522e-03  3.4800526e-03\n",
      " -3.5573866e-03 -4.0761065e-03  2.2884090e-03 -4.9946909e-03\n",
      " -2.4393133e-03  4.8761251e-03  2.9834078e-03  3.5438270e-03\n",
      " -2.7117445e-03 -2.2728250e-03 -7.6571357e-04 -1.6194864e-04\n",
      "  4.8126457e-03  4.8328258e-04 -2.7524051e-04  4.8499787e-03\n",
      " -4.2203250e-03  3.9255717e-03  4.7141765e-03  1.7306578e-03\n",
      " -2.6565874e-03  8.0700504e-04  1.6679820e-03 -1.7008991e-03\n",
      " -1.1773859e-03  2.6441435e-03  1.4003506e-03  4.4028722e-03\n",
      " -4.4409791e-03  2.3740171e-03 -1.1208911e-03 -1.0785805e-03\n",
      " -3.4532824e-03  1.0825823e-03 -1.1653589e-03  3.4915754e-03\n",
      "  2.9408247e-03  3.7986082e-03  6.8310043e-04 -1.2086667e-03\n",
      "  3.9777886e-03 -1.6696076e-03  6.9061352e-04  4.1561378e-03\n",
      "  1.5729673e-03  3.1377189e-03 -3.6514219e-04 -3.7421400e-03\n",
      "  2.5097956e-03  1.0551373e-03  3.9778203e-03  2.2746139e-04\n",
      "  5.8719696e-04  7.9736713e-04 -4.7517172e-03 -3.6769055e-03\n",
      " -3.9773071e-03 -1.0180451e-03 -3.5270320e-03 -4.8330058e-03\n",
      " -3.6074973e-03  3.9071250e-03 -2.6467473e-03 -4.9726618e-04\n",
      "  2.0661829e-03  1.9062120e-03  1.2441858e-03 -8.3953993e-05\n",
      "  3.4446416e-03 -3.9369445e-03 -2.5692093e-03 -6.0016458e-04]\n"
     ]
    },
    {
     "data": {
      "image/png": "[encoded data removed]",
      "text/plain": [
       "<matplotlib.figure.Figure at 0x7f8fd0fae3c8>"
      ]
     },
     "metadata": {},
     "output_type": "display_data"
    }
   ],
   "source": [
    "import gensim\n",
    "from gensim.models import Word2Vec\n",
    "from sklearn.decomposition import PCA\n",
    "from matplotlib import pyplot\n",
    "%pylab inline\n",
    "# define training data\n",
    "sentences = [['this', 'is', 'the', 'first', 'sentence', 'for', 'word2vec'],\n",
    "\t\t\t['this', 'is', 'the', 'second', 'sentence'],\n",
    "\t\t\t['yet', 'another', 'sentence'],\n",
    "\t\t\t['one', 'more', 'sentence'],\n",
    "\t\t\t['and', 'the', 'final', 'sentence']]\n",
    "# train model\n",
    "model = Word2Vec(sentences, min_count=1,size=100)\n",
    "#model = gensim.models.Word2Vec(sentences, size=150, window=10, min_count=2, workers=10)\n",
    "\n",
    "# summarize the loaded model\n",
    "print(model)\n",
    "# summarize vocabulary\n",
    "words = list(model.wv.vocab)\n",
    "print(words)\n",
    "# access vector for one word\n",
    "print(model['sentence'])\n",
    "\n",
    "\n",
    "\n",
    "# fit a 2d PCA model to the vectors\n",
    "X = model[model.wv.vocab]\n",
    "pca = PCA(n_components=2)\n",
    "result = pca.fit_transform(X)\n",
    "# create a scatter plot of the projection\n",
    "pyplot.scatter(result[:, 0], result[:, 1])\n",
    "words = list(model.wv.vocab)\n",
    "for i, word in enumerate(words):\n",
    "\tpyplot.annotate(word, xy=(result[i, 0], result[i, 1]))\n",
    "pyplot.show()"
   ]
  },
  {
   "cell_type": "markdown",
   "metadata": {},
   "source": [
    "### Context Builder\n",
    "\n",
    "    "
   ]
  },
  {
   "cell_type": "markdown",
   "metadata": {},
   "source": [
    "* __Context Builder__ is kind of sliding window. It is specified by number and direction\n",
    "\n",
    "\n",
    "* It's kind of n-gram algorithms.\n",
    "\n",
    "\n",
    "* It uses output of Vocabulary builder as input.\n",
    "\n",
    "\n",
    "* Context builder generate word pairs. \n",
    "\n",
    "\n",
    "* Note that: If the word is at the beginning or ending of sentence, the window ignores the outer words"
   ]
  },
  {
   "cell_type": "markdown",
   "metadata": {},
   "source": [
    "<img src=\"https://raw.githubusercontent.com/jalajthanaki/Pune_meetup/master/Day_3/Word2Vec/images/Image_1_5.png\" \n",
    "align=\"middle\" alt=\"Image_1_5\" data-canonical-src=\"\" style=\"width:100%;height:100%\">"
   ]
  },
  {
   "cell_type": "code",
   "execution_count": 47,
   "metadata": {
    "collapsed": true
   },
   "outputs": [
    {
     "name": "stdout",
     "output_type": "stream",
     "text": [
      "------------Sentences----------\n",
      "[['he', 'is', 'the', 'king'], ['the', 'king', 'is', 'royal'], ['she', 'is', 'the', 'royal', 'queen']]\n",
      "\n",
      "\n",
      "-----------Word Pairs-------\n",
      "Word:  he\n",
      "['he ------- is']\n",
      "['he ------- the']\n",
      "Word:  is\n",
      "['is ------- he']\n",
      "['is ------- the']\n",
      "['is ------- king']\n",
      "Word:  the\n",
      "['the ------- he']\n",
      "['the ------- is']\n",
      "['the ------- king']\n",
      "Word:  king\n",
      "['king ------- is']\n",
      "['king ------- the']\n",
      "\n",
      "\n",
      "-----------Word Pairs-------\n",
      "Word:  the\n",
      "['the ------- king']\n",
      "['the ------- is']\n",
      "Word:  king\n",
      "['king ------- the']\n",
      "['king ------- is']\n",
      "['king ------- royal']\n",
      "Word:  is\n",
      "['is ------- the']\n",
      "['is ------- king']\n",
      "['is ------- royal']\n",
      "Word:  royal\n",
      "['royal ------- king']\n",
      "['royal ------- is']\n",
      "\n",
      "\n",
      "-----------Word Pairs-------\n",
      "Word:  she\n",
      "['she ------- is']\n",
      "['she ------- the']\n",
      "Word:  is\n",
      "['is ------- she']\n",
      "['is ------- the']\n",
      "['is ------- royal']\n",
      "Word:  the\n",
      "['the ------- she']\n",
      "['the ------- is']\n",
      "['the ------- royal']\n",
      "['the ------- queen']\n",
      "Word:  royal\n",
      "['royal ------- is']\n",
      "['royal ------- the']\n",
      "['royal ------- queen']\n",
      "Word:  queen\n",
      "['queen ------- the']\n",
      "['queen ------- royal']\n"
     ]
    }
   ],
   "source": [
    "# raw sentences is a list of sentences.\n",
    "corpus_raw = 'he is the king. the king is royal. she is the royal queen' \n",
    "raw_sentences = corpus_raw.split('.')\n",
    "sentences = []\n",
    "for sentence in raw_sentences:\n",
    "    sentences.append(sentence.split())\n",
    "\n",
    "print('------------Sentences----------')\n",
    "print(sentences)\n",
    "\n",
    "data = []\n",
    "WINDOW_SIZE = 2\n",
    "for sentence in sentences:\n",
    "    print('\\n')\n",
    "    print('-----------Word Pairs-------')\n",
    "    for word_index, word in enumerate(sentence):\n",
    "        print (\"Word:  \"+ word)\n",
    "        for nb_word in sentence[max(word_index - WINDOW_SIZE, 0) : min(word_index + WINDOW_SIZE, len(sentence)) + 1] : \n",
    "            if nb_word != word:\n",
    "                print ([word + ' ------- '+ nb_word])\n",
    "                data.append([word, nb_word])\n",
    "#print('\\n')\n",
    "#print('------------Word Pairs in form of list----------')\n",
    "#print(data)"
   ]
  },
  {
   "cell_type": "markdown",
   "metadata": {},
   "source": [
    "### One-hot encoding"
   ]
  },
  {
   "cell_type": "markdown",
   "metadata": {},
   "source": [
    "* Convert categorical data into binary format. \n",
    "\n",
    "\n",
    "* If word is present, then value at that word index is 1 and if not then value at that word index is zero"
   ]
  },
  {
   "cell_type": "code",
   "execution_count": 57,
   "metadata": {
    "collapsed": true
   },
   "outputs": [
    {
     "name": "stdout",
     "output_type": "stream",
     "text": [
      "['he', 'is', 'the', 'king', 'the', 'king', 'is', 'royal', 'she', 'is', 'the', 'royal', 'queen']\n",
      "{'is', 'the', 'she', 'royal', 'king', 'queen', 'he'}\n"
     ]
    }
   ],
   "source": [
    "corpus_raw = 'he is the king the king is royal she is the royal queen' \n",
    "words = []\n",
    "for word in corpus_raw.split(' '):\n",
    "    if word != '.': # because we don't want to treat . as a word\n",
    "        words.append(word)\n",
    "print (words)\n",
    "words = set(words) # so that all duplicate words are removed\n",
    "print (words)\n",
    "word2int = {}\n",
    "int2word = {}\n",
    "vocab_size = len(words) # gives the total number of unique words\n",
    "for i,word in enumerate(words):\n",
    "    word2int[word] = i\n",
    "    int2word[i] = word\n",
    "\n",
    "# function to convert numbers to one hot vectors\n",
    "def to_one_hot(data_point_index, vocab_size):\n",
    "    temp = np.zeros(vocab_size)\n",
    "    temp[data_point_index] = 1\n",
    "    return temp\n",
    "x_train = [] # input word\n",
    "y_train = [] # output word\n",
    "for data_word in data:\n",
    "    x_train.append(to_one_hot(word2int[ data_word[0] ], vocab_size))\n",
    "    y_train.append(to_one_hot(word2int[ data_word[1] ], vocab_size))\n",
    "\n",
    "# convert them to numpy arrays\n",
    "x_train = np.asarray(x_train)\n",
    "y_train = np.asarray(y_train)"
   ]
  },
  {
   "cell_type": "code",
   "execution_count": 59,
   "metadata": {
    "collapsed": true
   },
   "outputs": [
    {
     "name": "stdout",
     "output_type": "stream",
     "text": [
      "[[0. 0. 0. 0. 0. 0. 1.]\n",
      " [0. 0. 0. 0. 0. 0. 1.]\n",
      " [1. 0. 0. 0. 0. 0. 0.]\n",
      " [1. 0. 0. 0. 0. 0. 0.]\n",
      " [1. 0. 0. 0. 0. 0. 0.]\n",
      " [0. 1. 0. 0. 0. 0. 0.]\n",
      " [0. 1. 0. 0. 0. 0. 0.]\n",
      " [0. 1. 0. 0. 0. 0. 0.]\n",
      " [0. 0. 0. 0. 1. 0. 0.]\n",
      " [0. 0. 0. 0. 1. 0. 0.]\n",
      " [0. 1. 0. 0. 0. 0. 0.]\n",
      " [0. 1. 0. 0. 0. 0. 0.]\n",
      " [0. 0. 0. 0. 1. 0. 0.]\n",
      " [0. 0. 0. 0. 1. 0. 0.]\n",
      " [0. 0. 0. 0. 1. 0. 0.]\n",
      " [1. 0. 0. 0. 0. 0. 0.]\n",
      " [1. 0. 0. 0. 0. 0. 0.]\n",
      " [1. 0. 0. 0. 0. 0. 0.]\n",
      " [0. 0. 0. 1. 0. 0. 0.]\n",
      " [0. 0. 0. 1. 0. 0. 0.]\n",
      " [0. 0. 1. 0. 0. 0. 0.]\n",
      " [0. 0. 1. 0. 0. 0. 0.]\n",
      " [1. 0. 0. 0. 0. 0. 0.]\n",
      " [1. 0. 0. 0. 0. 0. 0.]\n",
      " [1. 0. 0. 0. 0. 0. 0.]\n",
      " [0. 1. 0. 0. 0. 0. 0.]\n",
      " [0. 1. 0. 0. 0. 0. 0.]\n",
      " [0. 1. 0. 0. 0. 0. 0.]\n",
      " [0. 1. 0. 0. 0. 0. 0.]\n",
      " [0. 0. 0. 1. 0. 0. 0.]\n",
      " [0. 0. 0. 1. 0. 0. 0.]\n",
      " [0. 0. 0. 1. 0. 0. 0.]\n",
      " [0. 0. 0. 0. 0. 1. 0.]\n",
      " [0. 0. 0. 0. 0. 1. 0.]]\n"
     ]
    }
   ],
   "source": [
    "print(x_train)"
   ]
  },
  {
   "cell_type": "code",
   "execution_count": 55,
   "metadata": {
    "collapsed": true
   },
   "outputs": [
    {
     "name": "stdout",
     "output_type": "stream",
     "text": [
      "[[1. 0. 0. 0. 0. 0. 0.]\n",
      " [0. 1. 0. 0. 0. 0. 0.]\n",
      " [0. 0. 0. 0. 0. 0. 1.]\n",
      " [0. 1. 0. 0. 0. 0. 0.]\n",
      " [0. 0. 0. 0. 1. 0. 0.]\n",
      " [0. 0. 0. 0. 0. 0. 1.]\n",
      " [1. 0. 0. 0. 0. 0. 0.]\n",
      " [0. 0. 0. 0. 1. 0. 0.]\n",
      " [1. 0. 0. 0. 0. 0. 0.]\n",
      " [0. 1. 0. 0. 0. 0. 0.]\n",
      " [0. 0. 0. 0. 1. 0. 0.]\n",
      " [1. 0. 0. 0. 0. 0. 0.]\n",
      " [0. 1. 0. 0. 0. 0. 0.]\n",
      " [1. 0. 0. 0. 0. 0. 0.]\n",
      " [0. 0. 0. 1. 0. 0. 0.]\n",
      " [0. 1. 0. 0. 0. 0. 0.]\n",
      " [0. 0. 0. 0. 1. 0. 0.]\n",
      " [0. 0. 0. 1. 0. 0. 0.]\n",
      " [0. 0. 0. 0. 1. 0. 0.]\n",
      " [1. 0. 0. 0. 0. 0. 0.]\n",
      " [1. 0. 0. 0. 0. 0. 0.]\n",
      " [0. 1. 0. 0. 0. 0. 0.]\n",
      " [0. 0. 1. 0. 0. 0. 0.]\n",
      " [0. 1. 0. 0. 0. 0. 0.]\n",
      " [0. 0. 0. 1. 0. 0. 0.]\n",
      " [0. 0. 1. 0. 0. 0. 0.]\n",
      " [1. 0. 0. 0. 0. 0. 0.]\n",
      " [0. 0. 0. 1. 0. 0. 0.]\n",
      " [0. 0. 0. 0. 0. 1. 0.]\n",
      " [1. 0. 0. 0. 0. 0. 0.]\n",
      " [0. 1. 0. 0. 0. 0. 0.]\n",
      " [0. 0. 0. 0. 0. 1. 0.]\n",
      " [0. 1. 0. 0. 0. 0. 0.]\n",
      " [0. 0. 0. 1. 0. 0. 0.]]\n"
     ]
    }
   ],
   "source": [
    "print(y_train)"
   ]
  },
  {
   "cell_type": "markdown",
   "metadata": {},
   "source": [
    "### Continuous Bag of Words (CBOW)\n",
    "\n",
    "  \n"
   ]
  },
  {
   "cell_type": "markdown",
   "metadata": {},
   "source": [
    "* This model tries to predict a word based on its neighbours\n",
    "\n",
    "\n",
    "* CBOW is learning to predict the word by the context. A context may be single word or multiple word for a given target words"
   ]
  },
  {
   "cell_type": "markdown",
   "metadata": {},
   "source": [
    "__Example:__ The cat jumped over the puddle.\n",
    "\n",
    "__Input words or Context words:__ {“The”, “cat”, ’over”, “the’, “puddle”}\n",
    "\n",
    "__Output word or target word:__ We try to predict or generate center word \"jumped\"\n"
   ]
  },
  {
   "cell_type": "markdown",
   "metadata": {},
   "source": [
    "<img src=\"https://raw.githubusercontent.com/jalajthanaki/Pune_meetup/master/Day_3/Word2Vec/images/Image_1_6.png\" \n",
    "align=\"middle\" alt=\"Image_1_6\" data-canonical-src=\"\" style=\"width:80%;height:80%\">"
   ]
  },
  {
   "cell_type": "markdown",
   "metadata": {},
   "source": [
    "<img src=\"https://raw.githubusercontent.com/jalajthanaki/Pune_meetup/master/Day_3/Word2Vec/images/Image_1_7.png\" \n",
    "align=\"middle\" alt=\"Image_1_7\" data-canonical-src=\"\" style=\"width:80%;height:80%\">"
   ]
  },
  {
   "cell_type": "markdown",
   "metadata": {},
   "source": [
    "<p style=\"text-align:center;\">Image credit goes to [Xin Rong](https://docs.google.com/presentation/d/1yQWN1CDWLzxGeIAvnGgDsIJr5xmy4dB0VmHFKkLiibo/pub?start=false&loop=false&delayms=3000&slide=id.p)</p>"
   ]
  },
  {
   "cell_type": "markdown",
   "metadata": {},
   "source": [
    "### Skip-Gram\n",
    "\n",
    "    "
   ]
  },
  {
   "cell_type": "markdown",
   "metadata": {},
   "source": [
    "* This model tries to predict the neighbours of a given word"
   ]
  },
  {
   "cell_type": "markdown",
   "metadata": {},
   "source": [
    "__Example:__ The cat jumped over the puddle.\n",
    "\n",
    "__Input:__ The center word “jumped”\n",
    "\n",
    "__Output:__ The model will be able to predict or generate the surrounding words “The”, “cat”, “over”, “the”, “puddle”. \n",
    "\n",
    "Here we call the __word “jumped” the context__ and __surrounding words as target words__\n"
   ]
  },
  {
   "cell_type": "markdown",
   "metadata": {},
   "source": [
    "<img src=\"https://raw.githubusercontent.com/jalajthanaki/Pune_meetup/master/Day_3/Word2Vec/images/Image_1_8.png\" \n",
    "align=\"middle\" alt=\"Image_1_8\" data-canonical-src=\"\" style=\"width:80%;height:80%\">"
   ]
  },
  {
   "cell_type": "markdown",
   "metadata": {},
   "source": [
    "<img src=\"https://raw.githubusercontent.com/jalajthanaki/Pune_meetup/master/Day_3/Word2Vec/images/Image_1_9.png\" \n",
    "align=\"middle\" alt=\"Image_1_9\" data-canonical-src=\"\" style=\"width:80%;height:80%\">"
   ]
  },
  {
   "cell_type": "markdown",
   "metadata": {},
   "source": [
    "<p style=\"text-align:center;\">Image credit goes to [Xin Rong](https://docs.google.com/presentation/d/1yQWN1CDWLzxGeIAvnGgDsIJr5xmy4dB0VmHFKkLiibo/pub?start=false&loop=false&delayms=3000&slide=id.p)</p>"
   ]
  },
  {
   "cell_type": "markdown",
   "metadata": {},
   "source": [
    "## Math behind Word2Vec"
   ]
  },
  {
   "cell_type": "markdown",
   "metadata": {},
   "source": [
    "### Structure Highlights\n",
    "\n"
   ]
  },
  {
   "cell_type": "markdown",
   "metadata": {},
   "source": [
    "<img src=\"https://raw.githubusercontent.com/jalajthanaki/Pune_meetup/master/Day_3/Word2Vec/images/Image_1_10.png\" \n",
    "align=\"middle\" alt=\"Image_1_10\" data-canonical-src=\"\" style=\"width:80%;height:80%\">"
   ]
  },
  {
   "cell_type": "markdown",
   "metadata": {},
   "source": [
    "```\n",
    "\n",
    "Input Layer:\n",
    "    One Hot encoded Vector\n",
    "\n",
    "Hidden Layer:\n",
    "    Linear Calculation\n",
    "    \n",
    "Outpur Layer:\n",
    "    Softmax\n",
    "    \n",
    "```"
   ]
  },
  {
   "cell_type": "markdown",
   "metadata": {},
   "source": [
    "### Small math example\n",
    "\n",
    "    "
   ]
  },
  {
   "cell_type": "markdown",
   "metadata": {},
   "source": [
    "```\n",
    "Corpus:\n",
    "\n",
    "the dog saw a cat\n",
    "\n",
    "the dog chased a cat\n",
    "\n",
    "the cat climbed a tree\n",
    "\n",
    "```\n",
    "\n",
    "\n",
    "\n"
   ]
  },
  {
   "cell_type": "markdown",
   "metadata": {},
   "source": [
    "__Step 1 : There are total 8 unique words__\n",
    "\n",
    "`{ the, dog, saw, a, cat, chased, climbed, tree }`"
   ]
  },
  {
   "cell_type": "markdown",
   "metadata": {},
   "source": [
    "__Step 2 : Arrange them an alphabetical order__\n",
    "\n",
    "<table style='text-size:14px;text-align:center'>\n",
    "  <tr>\n",
    "    <th>Words</th>\n",
    "    <th>Index</th>\n",
    "  </tr>\n",
    "  <tr>\n",
    "    <td>a</td>\n",
    "    <td>1</td>\n",
    "  </tr>\n",
    "  <tr>\n",
    "    <td>cat</td>\n",
    "    <td>2</td>\n",
    "  </tr>\n",
    "  <tr>\n",
    "    <td>chased</td>\n",
    "    <td>3</td>\n",
    "  </tr>\n",
    "  <tr>\n",
    "    <td>climed</td>\n",
    "    <td>4</td>\n",
    "  </tr>\n",
    "  <tr>\n",
    "    <td>dog</td>\n",
    "    <td class=\"tg-yw4l\">5</td>\n",
    "  </tr>\n",
    "  <tr>\n",
    "    <td>saw</td>\n",
    "    <td>6</td>\n",
    "  </tr>\n",
    "  <tr>\n",
    "    <td>the</td>\n",
    "    <td>7</td>\n",
    "  </tr>\n",
    "  <tr>\n",
    "    <td>tree</td>\n",
    "    <td>8</td>\n",
    "  </tr>\n",
    "</table>"
   ]
  },
  {
   "cell_type": "markdown",
   "metadata": {},
   "source": [
    "__Step 3 : Let's define dimension of input and output matrix__\n",
    "\n",
    "* Size of vocab is = V = 8\n",
    "\n",
    "* Input matrix = $[ V \\times N ] = [ 8 \\times 3 ]$\n",
    "\n",
    "* Output matrix = $[ N \\times V ] = [ 3 \\times 8 ]$"
   ]
  },
  {
   "cell_type": "markdown",
   "metadata": {},
   "source": [
    "__Step 4 : Initialize random weight for input and output layer__"
   ]
  },
  {
   "cell_type": "markdown",
   "metadata": {},
   "source": [
    "__$W_{I}$ = Input layer weight__"
   ]
  },
  {
   "cell_type": "markdown",
   "metadata": {},
   "source": [
    "<img src=\"https://raw.githubusercontent.com/jalajthanaki/Pune_meetup/master/Day_3/Word2Vec/images/Image_1_11.png\" \n",
    "align=\"middle\" alt=\"Image_1_11\" data-canonical-src=\"\" style=\"width:40%;height:40%\">"
   ]
  },
  {
   "cell_type": "markdown",
   "metadata": {},
   "source": [
    "__$W_{O}$ = Output layer weight__"
   ]
  },
  {
   "cell_type": "markdown",
   "metadata": {},
   "source": [
    "<img src=\"https://raw.githubusercontent.com/jalajthanaki/Pune_meetup/master/Day_3/Word2Vec/images/Image_1_12.png\" \n",
    "align=\"middle\" alt=\"Image_1_12\" data-canonical-src=\"\" style=\"width:80%;height:80%\">"
   ]
  },
  {
   "cell_type": "markdown",
   "metadata": {},
   "source": [
    "__Step 5 : Suppose we want to learn relationship between word 'cat' and 'climbed'__"
   ]
  },
  {
   "cell_type": "markdown",
   "metadata": {},
   "source": [
    "* Input layer get this input which represent the one-hot encoding for word 'cat' =$ X_{cat}$ =  $[\\;0\\;1\\; 0\\; 0\\; 0\\; 0\\; 0\\; 0\\;]$\n",
    "\n",
    "* Weight of input layer is: \n",
    "\n",
    "* Perform $X_{cat} \\times W_{I} = [\\;0\\;1\\; 0\\; 0\\; 0\\; 0\\; 0\\; 0\\;] \\; \\times \\;$ $\\left[\\begin{array}\n",
    "{rrr}\n",
    "-0.094491 & -0.443977 & 0.313917 \\\\\n",
    "-0.490796 & -0.229903 & 0.06546  \\\\\n",
    " 0.072921 & 0.172246 & -0.357751 \\\\\n",
    " 0.104514 & -0.463000 & 0.079367 \\\\\n",
    "-0.226080 & -0.154659 & -0.038422 \\\\\n",
    " 0.406115 & -0.192794 & -0.441992 \\\\\n",
    " 0.181755 & 0.088268 & 0.277574 \\\\\n",
    "-0.055334 & 0.491792 & 0.263102 \n",
    "\\end{array}\\right]$\n",
    "\n",
    "\n",
    "\n",
    "* __So final output of hidden layer__\n",
    "\n",
    " $H_{output} = W_{I_{2^{nd\\; row}}}$ = $[-0.490796 \\; -0.229903 \\;0.06546 ]$"
   ]
  },
  {
   "cell_type": "markdown",
   "metadata": {},
   "source": [
    "__Step 6 : Now let's perform matrix multiplication of $WI_{2^{nd\\;element}} \\times WO_{[3 \\times 8]}$ OR $H_{output} \\times WO_{[3 \\times 8]}$ __"
   ]
  },
  {
   "cell_type": "markdown",
   "metadata": {},
   "source": [
    "__Perform $H_{Output} \\times W_{O} = $__\n",
    "\n",
    "$\\left[\\begin{smallmatrix}-0.490796& -0.229903 & 0.06546 \\end{smallmatrix}\\right] \\; \\times \\;$ $ \\left[\\begin{smallmatrix}\n",
    " 0.023074 & 0.479901\t&0.432148\t&0.37548\t&0.364732\t&-0.11984&\t0.26607\t&-0.351 \\\\\n",
    "-0.368008 &\t0.424778\t&-0.257104\t&-0.148817\t&0.033922\t&0.353574\t&-0.144942\t&0.130904 \\\\\n",
    " 0.422434\t&0.364503\t&0.467865\t&-0.020302\t&-0.438777\t&-0.438777\t&0.268529\t&-0.446787 \n",
    "\\end{smallmatrix}\\right]$\n"
   ]
  },
  {
   "cell_type": "markdown",
   "metadata": {},
   "source": [
    "<img src=\"https://raw.githubusercontent.com/jalajthanaki/Pune_meetup/master/Day_3/Word2Vec/images/Image_1_13.png\" \n",
    "align=\"middle\" alt=\"Image_1_13\" data-canonical-src=\"\" style=\"width:80%;height:80%\">"
   ]
  },
  {
   "cell_type": "markdown",
   "metadata": {},
   "source": [
    "__Output layer generate this result__\n",
    "\n",
    "$H_{} \\times W_{O}$ = $\\left[\\begin{matrix} 0.100934\t&-0.309330\t&-0.122361&\t-0.151399\t&-0.215530\t&-0.051193\t&-0.0796855\t&0.1129275 \\end{matrix}\\right]$"
   ]
  },
  {
   "cell_type": "markdown",
   "metadata": {},
   "source": [
    "__We need Probability of the target word with respect to given context word __ \n",
    "\n",
    "* Context word is 'cat'\n",
    "\n",
    "* Target word is 'climbed'"
   ]
  },
  {
   "cell_type": "markdown",
   "metadata": {},
   "source": [
    "### Softmax function\n",
    "\n",
    "    "
   ]
  },
  {
   "cell_type": "markdown",
   "metadata": {},
   "source": [
    "$$ y_{j} = Probability\\;(word_{j}\\; | \\;Word_{context}) = \\frac {exp(u_{j})}{\\sum_{j^{'}=1}^V exp(u_{j})}$$"
   ]
  },
  {
   "cell_type": "code",
   "execution_count": 15,
   "metadata": {},
   "outputs": [
    {
     "name": "stdout",
     "output_type": "stream",
     "text": [
      "\n",
      " Softmax Probability \n",
      "\n",
      "[0.14981814 0.0994006  0.11983637 0.11640659 0.10917566 0.12867569\n",
      " 0.12506113 0.15162581]\n",
      "\n",
      "Error with repect to 'climbed' word\n",
      " \n",
      "[-0.14981814 -0.0994006   0.88016363 -0.11640659 -0.10917566 -0.12867569\n",
      " -0.12506113 -0.15162581]\n"
     ]
    }
   ],
   "source": [
    "import numpy as np\n",
    "\n",
    "def stablesoftmax(x):\n",
    "    shiftx = x - np.max(x)\n",
    "    #print (np.max(x))\n",
    "    #print (shiftx)\n",
    "    exps = np.exp(shiftx)\n",
    "    #print (exps)\n",
    "    #print (np.sum(exps))\n",
    "    print ('\\n Softmax Probability \\n')\n",
    "    print(exps / np.sum(exps))\n",
    "    print (\"\\nError with repect to 'climbed' word\\n \")\n",
    "    return ([0,0,1,0,0,0,0,0] - (exps / np.sum(exps)))\n",
    "\n",
    "print (stablesoftmax([0.100934,-0.309330,-0.122361,-0.151399,-0.215530,-0.051193,-0.0796855,0.1129275]))"
   ]
  },
  {
   "cell_type": "markdown",
   "metadata": {},
   "source": [
    "### Error Function"
   ]
  },
  {
   "cell_type": "code",
   "execution_count": null,
   "metadata": {},
   "outputs": [],
   "source": []
  },
  {
   "cell_type": "code",
   "execution_count": null,
   "metadata": {},
   "outputs": [],
   "source": []
  },
  {
   "cell_type": "code",
   "execution_count": null,
   "metadata": {},
   "outputs": [],
   "source": []
  },
  {
   "cell_type": "markdown",
   "metadata": {},
   "source": [
    "### Gradient Descent"
   ]
  },
  {
   "cell_type": "code",
   "execution_count": null,
   "metadata": {},
   "outputs": [],
   "source": []
  },
  {
   "cell_type": "code",
   "execution_count": null,
   "metadata": {},
   "outputs": [],
   "source": []
  },
  {
   "cell_type": "code",
   "execution_count": null,
   "metadata": {},
   "outputs": [],
   "source": []
  },
  {
   "cell_type": "code",
   "execution_count": null,
   "metadata": {},
   "outputs": [],
   "source": []
  },
  {
   "cell_type": "markdown",
   "metadata": {},
   "source": [
    "## Understanding of T-SNE \n",
    "\n"
   ]
  },
  {
   "cell_type": "code",
   "execution_count": null,
   "metadata": {},
   "outputs": [],
   "source": []
  },
  {
   "cell_type": "code",
   "execution_count": null,
   "metadata": {},
   "outputs": [],
   "source": []
  },
  {
   "cell_type": "markdown",
   "metadata": {},
   "source": [
    "## Let's start hands on session"
   ]
  },
  {
   "cell_type": "markdown",
   "metadata": {},
   "source": [
    "\n",
    "    \n"
   ]
  },
  {
   "cell_type": "markdown",
   "metadata": {},
   "source": [
    "__Reading Sources:__\n",
    "\n",
    "\n",
    "\n",
    "\n",
    "__Research Papers:__\n",
    "\n",
    "* [Original Word2Vec Paper by Google](https://arxiv.org/pdf/1301.3781.pdf)\n",
    "\n",
    "* [word2vec Parameter Learning Explained](https://arxiv.org/pdf/1411.2738.pdf)\n",
    "\n",
    "* [How exactly does word2vec work?](http://www.1-4-5.net/~dmm/ml/how_does_word2vec_work.pdf)\n",
    "\n",
    "* [word2vec gradients](https://courses.cs.ut.ee/MTAT.03.277/2015_fall/uploads/Main/word2vec.pdf)\n",
    "\n",
    "* [Backpropagation in Woed2Vec](http://www.claudiobellei.com/2018/01/06/backprop-word2vec/)\n",
    "\n",
    "* [Cross Entropy Error](https://visualstudiomagazine.com/articles/2014/04/01/neural-network-cross-entropy-error.aspx)\n",
    "\n",
    "\n",
    "\n",
    "\n",
    "\n",
    "\n",
    "__Commonly asked math based question for Word2Vec__\n",
    "\n",
    "* [Gradient Decent Steps](https://datascience.stackexchange.com/questions/5615/gradient-descent-step-for-word2vec-negative-sampling)\n",
    "\n",
    "* [Word2Vec Tutorial](http://mccormickml.com/assets/word2vec/Alex_Minnaar_Word2Vec_Tutorial_Part_I_The_Skip-Gram_Model.pdf)\n",
    "\n",
    "* [Gradient Decent Steps](https://stats.stackexchange.com/questions/134149/is-the-gradient-computation-in-the-word2vec-implementation-actually-wrong)\n",
    "\n",
    "\n",
    "\n",
    "__Fun Web interfaces for Word2Vec__\n",
    "\n",
    "\n",
    "* [twitter Word2vec](https://embeddings.macheads101.com/)\n",
    "* [Wevi by Xin Rong](https://ronxin.github.io/wevi/)\n",
    "    "
   ]
  },
  {
   "cell_type": "code",
   "execution_count": null,
   "metadata": {},
   "outputs": [],
   "source": []
  },
  {
   "cell_type": "code",
   "execution_count": null,
   "metadata": {},
   "outputs": [],
   "source": []
  },
  {
   "cell_type": "markdown",
   "metadata": {},
   "source": [
    "Reading Resources(RNN)\n",
    "\n",
    "\n",
    "\n",
    "https://www.youtube.com/channel/UCeqlHZDmUEQQHYqnei8doYg/playlists\n",
    "\n",
    "\n",
    "0.10093404596\t-0.30933086135\t-0.12236108599599999\t-0.151399576249\t-0.215530118658\t-0.051193073102\t-0.07968558275399999\t0.112927496668\n",
    "\n",
    "\n",
    "\n",
    "\n",
    "A1\tA2\tA3\n",
    "1\t-0.490796\t-0.229903\t0.06546\n",
    "Matrix B\n",
    "\n",
    "B1\tB2\tB3\tB4\tB5\tB6\tB7\tB8\n",
    "1\t0.023074\t0.479901\t0.432148\t0.37548\t0.364732\t-0.11984\t0.26607\t-0.351\n",
    "2\t-0.368008\t0.424778\t-0.257104\t-0.148817\t0.033922\t0.353574\t-0.144942\t0.130904\n",
    "3\t0.422434\t0.364503\t0.467865\t-0.020302\t-0.438777\t-0.438777\t0.268529\t-0.446787"
   ]
  }
 ],
 "metadata": {
  "kernelspec": {
   "display_name": "Python 3",
   "language": "python",
   "name": "python3"
  },
  "language_info": {
   "codemirror_mode": {
    "name": "ipython",
    "version": 3
   },
   "file_extension": ".py",
   "mimetype": "text/x-python",
   "name": "python",
   "nbconvert_exporter": "python",
   "pygments_lexer": "ipython3",
   "version": "3.5.2"
  }
 },
 "nbformat": 4,
 "nbformat_minor": 2
}
